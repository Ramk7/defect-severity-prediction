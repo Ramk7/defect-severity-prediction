{
 "cells": [
  {
   "cell_type": "markdown",
   "metadata": {},
   "source": [
    "# Dataset Exploration"
   ]
  },
  {
   "cell_type": "code",
   "execution_count": 1,
   "metadata": {},
   "outputs": [],
   "source": [
    "import numpy as np\n",
    "import pandas as pd\n",
    "import math\n",
    "from pprint import pprint"
   ]
  },
  {
   "cell_type": "code",
   "execution_count": 2,
   "metadata": {},
   "outputs": [],
   "source": [
    "class Dataset():\n",
    "    def __init__(self, path, project_id, percent=1, train=True):\n",
    "        self.path = path\n",
    "        self.project_id = project_id\n",
    "        self.percent = percent\n",
    "        self.train = train"
   ]
  },
  {
   "cell_type": "code",
   "execution_count": 3,
   "metadata": {},
   "outputs": [],
   "source": [
    "# Taken from sev.py implementation\n",
    "def _load_data(dataset):\n",
    "    '''Helper function to load_data. Reads in file for a single dataset given.\n",
    "\n",
    "    Args:\n",
    "        dataset: A Dataset object (Dataset object defined below)\n",
    "\n",
    "    Returns:\n",
    "        A numpy array with the required columns from dataset.\n",
    "    '''\n",
    "    df = pd.read_csv(dataset.path, sep=',', encoding='ISO-8859-1')\n",
    "    raw_data = np.array(df)\n",
    "\n",
    "    # get the columns for Subject and Severity Rating\n",
    "    extract_cols = [1, 2]\n",
    "    del_cols = np.delete(np.arange(raw_data.shape[1]), extract_cols)\n",
    "    data = np.delete(raw_data, del_cols, axis=1)\n",
    "\n",
    "    # check for possible NaN severity values\n",
    "    del_rows = []\n",
    "    for i in range(len(data)):\n",
    "        if math.isnan(data[i][1]):\n",
    "            del_rows.append(i)\n",
    "\n",
    "    # delete rows that contain NaN severity values\n",
    "    if len(del_rows) > 0:\n",
    "        data = np.delete(data, del_rows, axis=0)\n",
    "\n",
    "    # add column for project id\n",
    "    dataset_size = len(data)\n",
    "    project_id_column = [dataset.project_id for i in range(dataset_size)]\n",
    "    data = np.insert(data, 2, project_id_column, axis=1)\n",
    "\n",
    "    # filter dataset percent\n",
    "    if dataset.percent != 1:\n",
    "        size = len(data)\n",
    "        train_size = int(size * dataset.percent)\n",
    "        if dataset.train:\n",
    "            # delete row not needed from last row\n",
    "            data = np.delete(data, slice(train_size, size), axis=0)\n",
    "\n",
    "            #print('Range to delete: ', train_size, '-', size)\n",
    "        else:\n",
    "            # delete rows not needed from first row\n",
    "            data = np.delete(data, slice(0, train_size), axis=0)\n",
    "\n",
    "            #print('Range to delete: ', 0, '-', train_size)\n",
    "\n",
    "        #print('Size of Dataset: ', size)\n",
    "        #print('Size of remaining', len(data))\n",
    "\n",
    "    return data"
   ]
  },
  {
   "cell_type": "markdown",
   "metadata": {},
   "source": [
    "## Extract Dataset Properties\n",
    "Count the number of reports in each dataset as well as the distribution of severity types."
   ]
  },
  {
   "cell_type": "code",
   "execution_count": 4,
   "metadata": {},
   "outputs": [],
   "source": [
    "# dataset paths\n",
    "a = '../../dataset/raw/pitsA.csv'\n",
    "b = '../../dataset/raw/pitsB.csv'\n",
    "c = '../../dataset/raw/pitsC.csv'\n",
    "d = '../../dataset/raw/pitsD.csv'\n",
    "e = '../../dataset/raw/pitsE.csv'\n",
    "f = '../../dataset/raw/pitsF.csv'\n",
    "\n",
    "datasets = (a, b, c, d, e, f)"
   ]
  },
  {
   "cell_type": "code",
   "execution_count": 5,
   "metadata": {},
   "outputs": [
    {
     "name": "stdout",
     "output_type": "stream",
     "text": [
      "('DATASET: ', '../../dataset/raw/pitsA.csv')\n",
      "\n",
      "('Number of Reports: ', 965)\n",
      "Number if Reports per Severity:\n",
      "{2: 325, 3: 375, 4: 239, 5: 26}\n",
      "\n",
      "\n",
      "('DATASET: ', '../../dataset/raw/pitsB.csv')\n",
      "\n",
      "('Number of Reports: ', 987)\n",
      "Number if Reports per Severity:\n",
      "{2: 23, 3: 523, 4: 382, 5: 59}\n",
      "\n",
      "\n",
      "('DATASET: ', '../../dataset/raw/pitsC.csv')\n",
      "\n",
      "('Number of Reports: ', 323)\n",
      "Number if Reports per Severity:\n",
      "{3: 133, 4: 181, 5: 9}\n",
      "\n",
      "\n",
      "('DATASET: ', '../../dataset/raw/pitsD.csv')\n",
      "\n",
      "('Number of Reports: ', 182)\n",
      "Number if Reports per Severity:\n",
      "{2: 1, 3: 167, 4: 13, 5: 1}\n",
      "\n",
      "\n",
      "('DATASET: ', '../../dataset/raw/pitsE.csv')\n",
      "\n",
      "('Number of Reports: ', 825)\n",
      "Number if Reports per Severity:\n",
      "{2: 24, 3: 517, 4: 243, 5: 41}\n",
      "\n",
      "\n",
      "('DATASET: ', '../../dataset/raw/pitsF.csv')\n",
      "\n",
      "('Number of Reports: ', 744)\n",
      "Number if Reports per Severity:\n",
      "{1: 1, 2: 9, 3: 477, 4: 209, 5: 48}\n",
      "\n",
      "\n"
     ]
    }
   ],
   "source": [
    "# count number of reports in each dataset\n",
    "# count number of each severity type in each dataset\n",
    "len_datasets = []\n",
    "dist_datasets = []\n",
    "for dataset in datasets:\n",
    "    data = _load_data(Dataset(dataset, project_id=1, percent=1, train=False))\n",
    "    \n",
    "    # num of reports\n",
    "    len_datasets.append(len(data))\n",
    "    \n",
    "    # num of each sev type (2, 3, 4, 5)\n",
    "    dist_data = {}\n",
    "    for report in data:\n",
    "        severity = int(report[1])\n",
    "        if severity in dist_data:\n",
    "            dist_data[severity] += 1\n",
    "        else:\n",
    "            dist_data[severity] = 1\n",
    "    dist_datasets.append(dist_data)\n",
    "\n",
    "# print results\n",
    "for i, num_reports in enumerate(len_datasets):\n",
    "    print('DATASET: ', datasets[i])\n",
    "    print('')\n",
    "    print('Number of Reports: ', num_reports)\n",
    "    print('Number if Reports per Severity:')\n",
    "    print(dist_datasets[i])\n",
    "    print('')\n",
    "    print('')"
   ]
  },
  {
   "cell_type": "markdown",
   "metadata": {},
   "source": [
    "# Graph Results"
   ]
  },
  {
   "cell_type": "code",
   "execution_count": 6,
   "metadata": {},
   "outputs": [],
   "source": [
    "import matplotlib.pyplot as plt"
   ]
  },
  {
   "cell_type": "markdown",
   "metadata": {},
   "source": [
    "## Number of Reports\n",
    "The total number of reports in each projects."
   ]
  },
  {
   "cell_type": "code",
   "execution_count": 7,
   "metadata": {},
   "outputs": [
    {
     "data": {
      "image/png": "[encoded data removed]",
      "text/plain": [
       "<Figure size 576x432 with 1 Axes>"
      ]
     },
     "metadata": {
      "needs_background": "light"
     },
     "output_type": "display_data"
    }
   ],
   "source": [
    "n_projects = 6\n",
    "\n",
    "n_reports = (965, 987, 323, 182, 825, 744)\n",
    "\n",
    "fig, ax = plt.subplots(figsize=(8,6))\n",
    "\n",
    "index = np.arange(n_projects)\n",
    "bar_width = 0.55\n",
    "\n",
    "rects = ax.bar(index, n_reports, bar_width)\n",
    "\n",
    "ax.set_xlabel('PITS Projects')\n",
    "ax.set_ylabel('Number of Reports')\n",
    "ax.set_title('Number of Reports by Project')\n",
    "ax.set_xticks(index)\n",
    "ax.set_xticklabels(('A', 'B', 'C', 'D', 'E','F'))\n",
    "\n",
    "fig.tight_layout()\n",
    "plt.show()\n",
    "fig.savefig('num_reports.png')"
   ]
  },
  {
   "cell_type": "markdown",
   "metadata": {},
   "source": [
    "## Severity Distribution"
   ]
  },
  {
   "cell_type": "code",
   "execution_count": 8,
   "metadata": {
    "scrolled": false
   },
   "outputs": [
    {
     "data": {
      "image/png": "[encoded data removed]",
      "text/plain": [
       "<Figure size 576x432 with 1 Axes>"
      ]
     },
     "metadata": {
      "needs_background": "light"
     },
     "output_type": "display_data"
    }
   ],
   "source": [
    "n_projects = 6\n",
    "\n",
    "severity_2 = (325, 23, 0, 1, 24, 9)\n",
    "severity_3 = (375, 523, 133, 167, 517, 477)\n",
    "severity_4 = (239, 382, 181, 13, 243, 209)\n",
    "severity_5 = (26, 59, 9, 1, 41, 48)\n",
    "\n",
    "fig, ax = plt.subplots(figsize=(8,6))\n",
    "\n",
    "index = np.arange(n_projects)\n",
    "bar_width = 0.15\n",
    "\n",
    "rects_2 = ax.bar(index, severity_2, bar_width, label='severity 2')\n",
    "rects_3 = ax.bar(index + bar_width, severity_3, bar_width, label='severity 3')\n",
    "rects_4 = ax.bar(index + 2*bar_width, severity_4, bar_width, label='severity 4')\n",
    "rects_5 = ax.bar(index + 3*bar_width, severity_5, bar_width, label='severity 5')\n",
    "\n",
    "ax.set_xlabel('PITS Projects')\n",
    "ax.set_ylabel('Number of Severity Occurance')\n",
    "ax.set_title('Severity Distribution in PITS')\n",
    "ax.set_xticks(index + 3*bar_width/2)\n",
    "ax.set_xticklabels(('A', 'B', 'C', 'D', 'E','F'))\n",
    "ax.legend()\n",
    "\n",
    "fig.tight_layout()\n",
    "plt.show()\n",
    "fig.savefig('dataset_distributions_bar.png')"
   ]
  },
  {
   "cell_type": "code",
   "execution_count": 9,
   "metadata": {},
   "outputs": [
    {
     "data": {
      "image/png": "[encoded data removed]",
      "text/plain": [
       "<Figure size 576x576 with 1 Axes>"
      ]
     },
     "metadata": {},
     "output_type": "display_data"
    }
   ],
   "source": [
    "severity_occurances = [382, 2192, 1267, 187]\n",
    "severity = ['Severity 2','Severity 3', 'Severity 4', 'Severity 5']\n",
    "\n",
    "fig, ax = plt.subplots(figsize=(8,8))\n",
    "\n",
    "ax.pie(severity_occurances, labels=severity, startangle=90, autopct='%.1f%%')\n",
    "centre_circle = plt.Circle((0,0),0.70,fc='white')\n",
    "fig = plt.gcf()\n",
    "fig.gca().add_artist(centre_circle)\n",
    "\n",
    "plt.title('PITS Combined Distribution')\n",
    "plt.tight_layout()\n",
    "\n",
    "plt.show()\n",
    "fig.savefig('combined_distributions_pie.png')"
   ]
  }
 ],
 "metadata": {
  "kernelspec": {
   "display_name": "Python 2",
   "language": "python",
   "name": "python2"
  },
  "language_info": {
   "codemirror_mode": {
    "name": "ipython",
    "version": 2
   },
   "file_extension": ".py",
   "mimetype": "text/x-python",
   "name": "python",
   "nbconvert_exporter": "python",
   "pygments_lexer": "ipython2",
   "version": "2.7.15"
  }
 },
 "nbformat": 4,
 "nbformat_minor": 2
}
