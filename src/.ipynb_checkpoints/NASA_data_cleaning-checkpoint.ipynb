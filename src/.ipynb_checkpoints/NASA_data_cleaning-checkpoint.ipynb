{
 "cells": [
  {
   "cell_type": "markdown",
   "metadata": {},
   "source": [
    "# Overview\n",
    "\n",
    "The process flow:\n",
    "1. Clean data\n",
    "2. Run data through Weka tool\n",
    "3. Record Results\n",
    "\n",
    "_Google Style Python Docstrings have been used for documentation_"
   ]
  },
  {
   "cell_type": "markdown",
   "metadata": {},
   "source": [
    "## 1. Data Cleaning\n",
    "The Weka tool will be taking care of most of the preprocessing required such as:\n",
    "* Tokenization\n",
    "* Stop Word Removal\n",
    "* Stemming\n",
    "* Tf-Idf\n",
    "* InfoGain\n",
    "\n",
    "Before feeding the data into Weka, unneeded columns from the dataset must be removed. Of the remaining columns we should also ensure that the formatting meets the ARFF file format."
   ]
  },
  {
   "cell_type": "code",
   "execution_count": 8,
   "metadata": {},
   "outputs": [],
   "source": [
    "# dependencies\n",
    "\n",
    "import numpy as np\n",
    "import pandas as pd\n",
    "from pprint import pprint"
   ]
  },
  {
   "cell_type": "code",
   "execution_count": 9,
   "metadata": {},
   "outputs": [],
   "source": [
    "# load raw dataset\n",
    "\n",
    "def load_data(path):\n",
    "    \"\"\"Loads file data and removes unneeded columns.\n",
    "    \n",
    "    Args:\n",
    "        path: The file path of the file being opened\n",
    "        \n",
    "    Returns:\n",
    "        A numpy array of the 'Subject' and 'Severity Rating' columns.\n",
    "    \"\"\"\n",
    "    df = pd.read_csv(path, sep=',', encoding='ISO-8859-1')\n",
    "    raw_data = np.array(df)\n",
    "    \n",
    "    # get the columns for Subject and Severity Rating\n",
    "    extract_cols = [1, 2]\n",
    "    del_cols = np.delete(np.arange(raw_data.shape[1]), extract_cols)\n",
    "    data = np.delete(raw_data, del_cols, axis=1)\n",
    "    \n",
    "    return data"
   ]
  },
  {
   "cell_type": "code",
   "execution_count": 35,
   "metadata": {},
   "outputs": [],
   "source": [
    "def no_quotes(data):\n",
    "    \n",
    "    # replace all punctuation with spaces\n",
    "    remove_punctuation = ''\n",
    "    for char in data:\n",
    "        if char == '\\'':\n",
    "            remove_punctuation += ''\n",
    "        else:\n",
    "            remove_punctuation += char\n",
    "    \n",
    "    return remove_punctuation\n",
    "\n",
    "# text-based columns\n",
    "def add_quotes(data):\n",
    "    \"\"\"Inserts surrounding quotes to the Summary column\n",
    "    \n",
    "    Args:\n",
    "        data: An n*m matrix where n is the number of rows in the dataset\n",
    "              and m is columns: 'Summary' and 'Severity Rating'. \n",
    "              \n",
    "              For example:\n",
    "              [['Build 5.3: Unitialized Variables' 3]\n",
    "              ['Build 5.3 FSW: Typecast Mismatch in Memory Deallocation' 3]\n",
    "              ['Build 5.3 FSW: Parameter Type Mismatch' 3]]\n",
    " \n",
    "    \n",
    "    Returns:\n",
    "        An n*m matrix where n is the number of rows in the dataset\n",
    "        and m is columns: 'Summary' and 'Severity Rating'.\n",
    "    \"\"\"\n",
    "    for x in data:\n",
    "        if '\\'' in x[0]:\n",
    "            x[0] = no_quotes(x[0])\n",
    "        x[0] = '\\''+ x[0] + '\\''\n",
    "    \n",
    "    return data"
   ]
  },
  {
   "cell_type": "code",
   "execution_count": 36,
   "metadata": {},
   "outputs": [],
   "source": [
    "# output ARFF file\n",
    "def generate_arff(data):\n",
    "    output_path = '../output/output.arff'\n",
    "    output_file = open(output_path, 'w')\n",
    "    \n",
    "    # write header\n",
    "    output_file.write('@relation nasa\\n')\n",
    "    output_file.write('@attribute Text string\\n')\n",
    "    output_file.write('@attribute class-att {1, 2, 3, 4, 5}\\n\\n')\n",
    "    output_file.write('@data\\n\\n')\n",
    "    \n",
    "    # write data\n",
    "    for x in data:\n",
    "        line = x[0] + ',' + str(x[1]) + '\\n'\n",
    "        output_file.write(line)\n",
    "    \n",
    "    # close file\n",
    "    output_file.close()\n",
    "    "
   ]
  },
  {
   "cell_type": "code",
   "execution_count": 37,
   "metadata": {},
   "outputs": [
    {
     "name": "stdout",
     "output_type": "stream",
     "text": [
      "Build 5.1 OBC Code: Symbol 'tbl_ptr' and 'sm_cond_commit_crc' not initialized\n",
      "UPL Build 5.1 Code: 'WORDS_PER_MONITOR' macro usage inconsistent with description\n",
      "OBC Build 5.1 Code: possible data overrun for function 'memcpy'\n",
      "OBC Build 5.1 Code: variable 'vm_10Hz_frame_delayâ tested against out-of-range value\n",
      "OBC Build 5.1 Code: function 'check_to_report_tag' missing return value\n",
      "Build 5.1 UPL Code: Array 'tlmBuffer' Possibly Out-of-Bounds\n",
      "Build 5.1 UPL Code: Suspiciously Placed ';' in sm_main.c\n",
      "Build 5.1 OBC Code: 'TempLevelStat' Not Initialized in sts_df.c\n",
      "Build 5.1 OBC Code: Array 'Fdc' Possibly Out-of-Bounds in acprocessiru.c\n",
      "Build 5.1 OBC Code: Array 'v' Possibly Out-of-Bounds in accommandattitude.c\n",
      "Build 5.0 OBC Code: Uninitialized local vars, 'x' and 'y'., in sts_df.c\n",
      "Build 5.0 OBC FSW CA: Uninitialized local vars, 'w', 'x', 'y', 'z', and 'a', in sts_df.c - case #2\n",
      "Build 5.0 OBC Code: Uninitialized local vars, 'w', 'x', 'y', 'z', and 'a', in sts_df.c - case #1\n",
      "Build 5.0 OBC Code: Uninitialized var, 'Twta_Pwr_State', in sts_df.c\n",
      "Build 4.0 OBC Code: Non-Initialized Data 'Jet2New' May be Used in AC_JetTorqueDistribution\n",
      "EngCntrl v0.2.2: 112 elements allocated for array of structure type 'NSTAR_CONFIG_DATA_TYPE', but only 16 elements initialized\n"
     ]
    }
   ],
   "source": [
    "# test code\n",
    "raw_data = load_data('../dataset/raw/pitsA.csv')\n",
    "cleaned_data = add_quotes(raw_data)\n",
    "generate_arff(cleaned_data)\n",
    "\n",
    "#pprint(cleaned_data)"
   ]
  },
  {
   "cell_type": "code",
   "execution_count": null,
   "metadata": {},
   "outputs": [],
   "source": []
  }
 ],
 "metadata": {
  "kernelspec": {
   "display_name": "Python 3",
   "language": "python",
   "name": "python3"
  },
  "language_info": {
   "codemirror_mode": {
    "name": "ipython",
    "version": 3
   },
   "file_extension": ".py",
   "mimetype": "text/x-python",
   "name": "python",
   "nbconvert_exporter": "python",
   "pygments_lexer": "ipython3",
   "version": "3.7.1"
  }
 },
 "nbformat": 4,
 "nbformat_minor": 2
}
