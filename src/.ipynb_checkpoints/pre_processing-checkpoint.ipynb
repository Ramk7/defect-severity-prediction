{
 "cells": [
  {
   "cell_type": "markdown",
   "metadata": {},
   "source": [
    "# Pre-Procescing"
   ]
  },
  {
   "cell_type": "code",
   "execution_count": 46,
   "metadata": {},
   "outputs": [
    {
     "name": "stdout",
     "output_type": "stream",
     "text": [
      "[nltk_data] Downloading package punkt to /home/jude/nltk_data...\n",
      "[nltk_data]   Package punkt is already up-to-date!\n",
      "[nltk_data] Downloading package stopwords to /home/jude/nltk_data...\n",
      "[nltk_data]   Package stopwords is already up-to-date!\n"
     ]
    }
   ],
   "source": [
    "import numpy as np\n",
    "import pandas as pd\n",
    "\n",
    "import nltk\n",
    "nltk.download('punkt')\n",
    "nltk.download('stopwords')\n",
    "\n",
    "from nltk.corpus import stopwords\n",
    "from nltk.stem import PorterStemmer\n",
    "\n",
    "from sklearn.feature_extraction.text import TfidfVectorizer"
   ]
  },
  {
   "cell_type": "markdown",
   "metadata": {},
   "source": [
    "## Tokenization\n",
    "The steps outlined in the paper:\n",
    "1. All punctuation are replaced with spaces\n",
    "2. remove non-printable characters\n",
    "3. convert all letters to lowercase"
   ]
  },
  {
   "cell_type": "code",
   "execution_count": 45,
   "metadata": {},
   "outputs": [],
   "source": [
    "def tokenize(data):\n",
    "    punctuations = '''!()-[]{};:'\"\\,<>./?@#$%^&*_~'''\n",
    "    \n",
    "    # remove non-printable characters (ASCII ONLY)\n",
    "    \n",
    "    \n",
    "    # convert all letters to lowercase\n",
    "    lowercase_string = data.lower()\n",
    "    \n",
    "    # replace all punctuation with spaces\n",
    "    remove_punctuation = ''\n",
    "    for char in lowercase_string:\n",
    "        if char in punctuations:\n",
    "            remove_punctuation += ' '\n",
    "        else:\n",
    "            remove_punctuation += char\n",
    "    \n",
    "    # return word tokens\n",
    "    return nltk.word_tokenize(remove_punctuation)"
   ]
  },
  {
   "cell_type": "code",
   "execution_count": 14,
   "metadata": {
    "scrolled": true
   },
   "outputs": [
    {
     "name": "stdout",
     "output_type": "stream",
     "text": [
      "build 5.3: unitialized variables\n",
      "build 5 3  unitialized variables\n",
      "['build', '5', '3', 'unitialized', 'variables']\n"
     ]
    }
   ],
   "source": [
    "print(tokenize('Build 5.3: Unitialized Variables'))"
   ]
  },
  {
   "cell_type": "markdown",
   "metadata": {},
   "source": [
    "## Stop Word Removal\n",
    "In the original paper, the number of stop words used is 262. The number of english stop words included in the nltk library is 179."
   ]
  },
  {
   "cell_type": "code",
   "execution_count": 40,
   "metadata": {},
   "outputs": [],
   "source": [
    "def remove_stopwords(tokens):\n",
    "    eng_stopwords = stopwords.words('english')\n",
    "    \n",
    "    result = []\n",
    "    for token in tokens:\n",
    "        if token not in eng_stopwords:\n",
    "            result.append(token)\n",
    "    return result"
   ]
  },
  {
   "cell_type": "code",
   "execution_count": 41,
   "metadata": {},
   "outputs": [
    {
     "name": "stdout",
     "output_type": "stream",
     "text": [
      "l3-sfs-887 incomplete traceability to the l4 requirements\n",
      "l3 sfs 887 incomplete traceability to the l4 requirements\n",
      "['l3', 'sfs', '887', 'incomplete', 'traceability', 'l4', 'requirements']\n"
     ]
    }
   ],
   "source": [
    "print(remove_stopwords(tokenize('L3-SFS-887 incomplete traceability to the L4 requirements')))"
   ]
  },
  {
   "cell_type": "markdown",
   "metadata": {},
   "source": [
    "## Stemming\n",
    "Porter stemmer was used."
   ]
  },
  {
   "cell_type": "code",
   "execution_count": 43,
   "metadata": {},
   "outputs": [],
   "source": [
    "def stem_words(no_stop_tokens):\n",
    "    porter_stemmer = PorterStemmer()\n",
    "    \n",
    "    result = []\n",
    "    for token in no_stop_tokens:\n",
    "        result.append(porter_stemmer.stem(token))\n",
    "    return result"
   ]
  },
  {
   "cell_type": "code",
   "execution_count": 44,
   "metadata": {},
   "outputs": [
    {
     "name": "stdout",
     "output_type": "stream",
     "text": [
      "l3-sfs-887 incomplete traceability to the l4 requirements\n",
      "l3 sfs 887 incomplete traceability to the l4 requirements\n",
      "['l3', 'sf', '887', 'incomplet', 'traceabl', 'l4', 'requir']\n"
     ]
    }
   ],
   "source": [
    "print(stem_words(remove_stopwords(tokenize('L3-SFS-887 incomplete traceability to the L4 requirements'))))"
   ]
  },
  {
   "cell_type": "markdown",
   "metadata": {},
   "source": [
    "## Tf*Idf\n",
    "Need to come back to this. First complete loading the data and having a list of documents (feature-summary)"
   ]
  },
  {
   "cell_type": "code",
   "execution_count": 53,
   "metadata": {},
   "outputs": [],
   "source": [
    "def apply_tfidf(documents):\n",
    "    vectorizer = TfidfVectorizer()\n",
    "    X = vectorizer.fit_transform(documents)\n",
    "    print(vectorizer.get_feature_names())"
   ]
  },
  {
   "cell_type": "code",
   "execution_count": 54,
   "metadata": {},
   "outputs": [
    {
     "name": "stdout",
     "output_type": "stream",
     "text": [
      "['887', 'incomplet', 'l3', 'l4', 'requir', 'sf', 'traceabl']\n"
     ]
    }
   ],
   "source": [
    "apply_tfidf(stem_words(remove_stopwords(tokenize('L3-SFS-887 incomplete traceability to the L4 requirements'))))"
   ]
  },
  {
   "cell_type": "markdown",
   "metadata": {},
   "source": [
    "# Loading Data"
   ]
  },
  {
   "cell_type": "code",
   "execution_count": null,
   "metadata": {},
   "outputs": [],
   "source": []
  }
 ],
 "metadata": {
  "kernelspec": {
   "display_name": "Python 3",
   "language": "python",
   "name": "python3"
  },
  "language_info": {
   "codemirror_mode": {
    "name": "ipython",
    "version": 3
   },
   "file_extension": ".py",
   "mimetype": "text/x-python",
   "name": "python",
   "nbconvert_exporter": "python",
   "pygments_lexer": "ipython3",
   "version": "3.7.0"
  }
 },
 "nbformat": 4,
 "nbformat_minor": 2
}
